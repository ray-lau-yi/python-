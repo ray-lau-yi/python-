{
 "cells": [
  {
   "cell_type": "code",
   "execution_count": 1,
   "metadata": {},
   "outputs": [],
   "source": [
    "import pandas as pd\n",
    "import numpy as np"
   ]
  },
  {
   "cell_type": "code",
   "execution_count": 2,
   "metadata": {},
   "outputs": [],
   "source": [
    "# 常用pd.read_csv,pd.read_table\n",
    "# sep=''，names=list,header=None,index_col=list,skiprows=list，na_values=list/dict,chunksize\n",
    "# 参数sep指定分隔符是，\n",
    "# header作为列名的行号,names自己指定列名,index_col指定选择的列,skiprows跳过那些行\n",
    "# na_values指定用null替换哪些值,chunksize读入数据块大小"
   ]
  },
  {
   "cell_type": "code",
   "execution_count": 3,
   "metadata": {},
   "outputs": [],
   "source": [
    "# data.to_csv(path,sep,na_rep=''，index=F，header=F，columns=list)\n",
    "# na_rep缺失值用什么标注，index，header是否写入行列标签，columns指定写入哪些列"
   ]
  },
  {
   "cell_type": "code",
   "execution_count": 4,
   "metadata": {},
   "outputs": [],
   "source": [
    "import csv\n",
    "# csv.reader()\n",
    "# csv.writer()"
   ]
  },
  {
   "cell_type": "code",
   "execution_count": 5,
   "metadata": {},
   "outputs": [],
   "source": [
    "import json"
   ]
  },
  {
   "cell_type": "code",
   "execution_count": 6,
   "metadata": {},
   "outputs": [],
   "source": [
    "# json.loads()\n",
    "# json.dumps()python转回json"
   ]
  },
  {
   "cell_type": "code",
   "execution_count": 7,
   "metadata": {},
   "outputs": [],
   "source": [
    "# pd.read_json()直接将json转化为df或S\n",
    "# data.to_json导出为json"
   ]
  },
  {
   "cell_type": "code",
   "execution_count": 8,
   "metadata": {},
   "outputs": [],
   "source": [
    "# pd.read_html()"
   ]
  },
  {
   "cell_type": "code",
   "execution_count": null,
   "metadata": {},
   "outputs": [],
   "source": [
    "# pickle实现序列化存储\n",
    "# data.to_pickle()\n",
    "# pd.read_pickle()"
   ]
  },
  {
   "cell_type": "code",
   "execution_count": 10,
   "metadata": {},
   "outputs": [],
   "source": [
    "# hdf5适用于大量数据分析\n",
    "# data.to_hdf(path,obj,format='table/fixed')\n",
    "# pd.read_hdf(path,obj,where=[''])使用table可以使用where查询"
   ]
  },
  {
   "cell_type": "code",
   "execution_count": 11,
   "metadata": {},
   "outputs": [],
   "source": [
    "# xlsx=pd.ExcelFile(path)\n",
    "# pd.read_excel(xlsx,'sheet1')读取excel"
   ]
  },
  {
   "cell_type": "code",
   "execution_count": null,
   "metadata": {},
   "outputs": [],
   "source": [
    "# writer=pd.ExcelWriter(path)\n",
    "# data.to_excel(writer,'sheet1')\n",
    "# writer.save()保存excel"
   ]
  }
 ],
 "metadata": {
  "kernelspec": {
   "display_name": "Python 3",
   "language": "python",
   "name": "python3"
  },
  "language_info": {
   "codemirror_mode": {
    "name": "ipython",
    "version": 3
   },
   "file_extension": ".py",
   "mimetype": "text/x-python",
   "name": "python",
   "nbconvert_exporter": "python",
   "pygments_lexer": "ipython3",
   "version": "3.9.2+"
  }
 },
 "nbformat": 4,
 "nbformat_minor": 2
}
