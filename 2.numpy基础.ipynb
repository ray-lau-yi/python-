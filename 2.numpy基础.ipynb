{
 "cells": [
  {
   "cell_type": "code",
   "execution_count": 1,
   "metadata": {},
   "outputs": [],
   "source": [
    "import numpy as np"
   ]
  },
  {
   "cell_type": "code",
   "execution_count": 2,
   "metadata": {},
   "outputs": [
    {
     "data": {
      "text/plain": [
       "array([[[0., 0., 0.],\n",
       "        [0., 0., 0.]]])"
      ]
     },
     "execution_count": 2,
     "metadata": {},
     "output_type": "execute_result"
    }
   ],
   "source": [
    "# 生成ndarray\n",
    "# np.array(list,dtype= np.float64 )\n",
    "# dtype可通过a=a.astype(np.float64)转变\n",
    "# shape可通过a=a.reshape(tuple)转型\n",
    "tuple=(1,2,3)\n",
    "np.empty(tuple)\n",
    "# tuple为shape"
   ]
  },
  {
   "cell_type": "code",
   "execution_count": 3,
   "metadata": {},
   "outputs": [
    {
     "data": {
      "text/plain": [
       "array([-1])"
      ]
     },
     "execution_count": 3,
     "metadata": {},
     "output_type": "execute_result"
    }
   ],
   "source": [
    "# array的索引从0开始，且对切片的修改保存到对原数组上（都是视图）\n",
    "# 拷贝，非视图，对数组的切片的复制，b=array [1:7，：，0] .copy()\n",
    "# bool索引，array[true,false],因此array [x1 == X] #x1 in X#\n",
    "# 取反~()\n",
    "a=np.array([[1,2,3],[3,-1,2]])\n",
    "a[a<0]\n",
    "# 遍历每一个值"
   ]
  },
  {
   "cell_type": "code",
   "execution_count": 4,
   "metadata": {},
   "outputs": [
    {
     "data": {
      "text/plain": [
       "array([3, 3, 5])"
      ]
     },
     "execution_count": 4,
     "metadata": {},
     "output_type": "execute_result"
    }
   ],
   "source": [
    "#神奇索引，和切片不同，复制到一个新的数组,arr2d[[1,-1]]第一行和最后一行\n",
    "a=np.array([[1,2,3],[3,-1,2],[3,5,6]])\n",
    "a[[1,0,2],[0,2,1]]\n",
    "# 神奇索引选中的是（1，0），（0，2），（2，1）\n",
    "# 和切片不同"
   ]
  },
  {
   "cell_type": "code",
   "execution_count": 5,
   "metadata": {},
   "outputs": [
    {
     "data": {
      "text/plain": [
       "array([[ 3,  2, -1],\n",
       "       [ 1,  3,  2],\n",
       "       [ 3,  6,  5]])"
      ]
     },
     "execution_count": 5,
     "metadata": {},
     "output_type": "execute_result"
    }
   ],
   "source": [
    "a[[1,0,2]][:,[0,2,1]]\n",
    "# 切片"
   ]
  },
  {
   "cell_type": "code",
   "execution_count": 6,
   "metadata": {},
   "outputs": [
    {
     "data": {
      "text/plain": [
       "array([[ 1,  3,  3],\n",
       "       [ 2, -1,  5],\n",
       "       [ 3,  2,  6]])"
      ]
     },
     "execution_count": 6,
     "metadata": {},
     "output_type": "execute_result"
    }
   ],
   "source": [
    "# 转置a.T\n",
    "a.T"
   ]
  },
  {
   "cell_type": "code",
   "execution_count": 7,
   "metadata": {},
   "outputs": [
    {
     "data": {
      "text/plain": [
       "array([[19, 14, 27],\n",
       "       [14, 30, 34],\n",
       "       [27, 34, 49]])"
      ]
     },
     "execution_count": 7,
     "metadata": {},
     "output_type": "execute_result"
    }
   ],
   "source": [
    "# 内积\n",
    "np.dot(a.T,a)\n",
    "#dot矩阵乘法"
   ]
  },
  {
   "cell_type": "code",
   "execution_count": 8,
   "metadata": {},
   "outputs": [],
   "source": [
    "# 置换轴arr.transpose((1,0,2)) 第二轴为第一轴，第一轴为第二轴，三轴不变"
   ]
  },
  {
   "cell_type": "code",
   "execution_count": 9,
   "metadata": {},
   "outputs": [
    {
     "data": {
      "text/plain": [
       "array([[1, 2, 3, 4],\n",
       "       [1, 2, 3, 4],\n",
       "       [1, 2, 3, 4],\n",
       "       [1, 2, 3, 4]])"
      ]
     },
     "execution_count": 9,
     "metadata": {},
     "output_type": "execute_result"
    }
   ],
   "source": [
    "point=np.arange(1,5,1)\n",
    "xs,ys=np.meshgrid(point,point)\n",
    "# 生成网格\n",
    "xs"
   ]
  },
  {
   "cell_type": "code",
   "execution_count": 10,
   "metadata": {},
   "outputs": [
    {
     "data": {
      "text/plain": [
       "array([[1, 0, 3, 4],\n",
       "       [1, 0, 3, 4],\n",
       "       [1, 0, 3, 4],\n",
       "       [1, 0, 3, 4]])"
      ]
     },
     "execution_count": 10,
     "metadata": {},
     "output_type": "execute_result"
    }
   ],
   "source": [
    "np.where(xs==2,0,xs)\n",
    "# 三元表达式的向量化版\n",
    "# x if condition else y\n",
    "# np.where(condition，x,y)\n",
    "# 逐个元素判断"
   ]
  },
  {
   "cell_type": "code",
   "execution_count": 11,
   "metadata": {},
   "outputs": [],
   "source": [
    "# 统计方法，如sum(axis=0)，std标准差，var方差"
   ]
  },
  {
   "cell_type": "code",
   "execution_count": 12,
   "metadata": {},
   "outputs": [],
   "source": [
    "# bool数组，bool.any()是否有true,bool.all()是否全true"
   ]
  },
  {
   "cell_type": "code",
   "execution_count": 13,
   "metadata": {},
   "outputs": [
    {
     "data": {
      "text/plain": [
       "array([[-0.51968231,  1.41851922, -1.22738048, -1.00503638,  0.35964502,\n",
       "         0.99000624, -0.78655168,  0.65500309,  0.89460073,  0.57738344]])"
      ]
     },
     "execution_count": 13,
     "metadata": {},
     "output_type": "execute_result"
    }
   ],
   "source": [
    "arr=np.random.randn(1,10)\n",
    "arr"
   ]
  },
  {
   "cell_type": "code",
   "execution_count": 14,
   "metadata": {},
   "outputs": [
    {
     "data": {
      "text/plain": [
       "array([[-1.22738048, -1.00503638, -0.78655168, -0.51968231,  0.35964502,\n",
       "         0.57738344,  0.65500309,  0.89460073,  0.99000624,  1.41851922]])"
      ]
     },
     "execution_count": 14,
     "metadata": {},
     "output_type": "execute_result"
    }
   ],
   "source": [
    "np.sort(arr)\n",
    "# np.sort(arr)不修改arr\n",
    "# arr.sort()修改arr"
   ]
  },
  {
   "cell_type": "code",
   "execution_count": 15,
   "metadata": {},
   "outputs": [
    {
     "data": {
      "text/plain": [
       "array([[-0.51968231,  1.41851922, -1.22738048, -1.00503638,  0.35964502,\n",
       "         0.99000624, -0.78655168,  0.65500309,  0.89460073,  0.57738344]])"
      ]
     },
     "execution_count": 15,
     "metadata": {},
     "output_type": "execute_result"
    }
   ],
   "source": [
    "arr"
   ]
  },
  {
   "cell_type": "code",
   "execution_count": 16,
   "metadata": {},
   "outputs": [],
   "source": [
    "# 一维ndarray，unique（arr）唯一值并排序,intersect1d(x,y)交并排序,union1d(x,y)并并排序"
   ]
  },
  {
   "cell_type": "code",
   "execution_count": 17,
   "metadata": {},
   "outputs": [],
   "source": [
    "# np.save(),np.load()保存并读取，默认.npy\n",
    "# np.savez('arr',a=arr2,b=arr3)保存多个数组，返回字典dict[a]=arr2"
   ]
  },
  {
   "cell_type": "code",
   "execution_count": 18,
   "metadata": {},
   "outputs": [
    {
     "data": {
      "text/plain": [
       "array([[-0.66065828,  1.50178186, -0.4963439 , -0.18223624,  0.82917887,\n",
       "         0.77959339, -1.33603669, -2.46148887,  0.51190541, -0.87595324]])"
      ]
     },
     "execution_count": 18,
     "metadata": {},
     "output_type": "execute_result"
    }
   ],
   "source": [
    "# np.dot(x,y)或x@y用于矩阵乘法，arr1*arr2用于逐个元素乘\n",
    "arr2=np.random.randn(1,10)\n",
    "arr2"
   ]
  },
  {
   "cell_type": "code",
   "execution_count": 19,
   "metadata": {},
   "outputs": [
    {
     "data": {
      "text/plain": [
       "array([[ 0.34333242,  2.13030643,  0.60920282,  0.18315405,  0.29821005,\n",
       "         0.77180232,  1.05086191, -1.61228282,  0.45795095, -0.5057609 ]])"
      ]
     },
     "execution_count": 19,
     "metadata": {},
     "output_type": "execute_result"
    }
   ],
   "source": [
    "arr2*arr"
   ]
  },
  {
   "cell_type": "code",
   "execution_count": 20,
   "metadata": {},
   "outputs": [],
   "source": [
    "# np.linalg.矩阵包\n",
    "# dot点乘，trace对角线和，det行列式，eig特征值特征向量，inv逆矩阵，qrQR分解，solve计算Ax=b的解，lstsq计算Ax=b最小二乘解"
   ]
  },
  {
   "cell_type": "code",
   "execution_count": 21,
   "metadata": {},
   "outputs": [],
   "source": [
    "# np.random随机数包\n",
    "# seed种子，rand均匀分布，randn标准正态分布，normal正太高斯分布，binomial二项分布，chisquare卡方分布，uniform01均匀分布"
   ]
  },
  {
   "cell_type": "code",
   "execution_count": null,
   "metadata": {},
   "outputs": [],
   "source": []
  }
 ],
 "metadata": {
  "kernelspec": {
   "display_name": "Python 3",
   "language": "python",
   "name": "python3"
  },
  "language_info": {
   "codemirror_mode": {
    "name": "ipython",
    "version": 3
   },
   "file_extension": ".py",
   "mimetype": "text/x-python",
   "name": "python",
   "nbconvert_exporter": "python",
   "pygments_lexer": "ipython3",
   "version": "3.8.5"
  }
 },
 "nbformat": 4,
 "nbformat_minor": 4
}
